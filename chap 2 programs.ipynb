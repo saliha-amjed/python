{
 "cells": [
  {
   "cell_type": "code",
   "execution_count": 1,
   "id": "0f163fcf",
   "metadata": {},
   "outputs": [
    {
     "name": "stdout",
     "output_type": "stream",
     "text": [
      "123\n"
     ]
    }
   ],
   "source": [
    "print(123)"
   ]
  },
  {
   "cell_type": "code",
   "execution_count": 2,
   "id": "23254e1d",
   "metadata": {},
   "outputs": [
    {
     "name": "stdout",
     "output_type": "stream",
     "text": [
      "98.6\n"
     ]
    }
   ],
   "source": [
    "print(98.6)"
   ]
  },
  {
   "cell_type": "code",
   "execution_count": 3,
   "id": "608ee45d",
   "metadata": {},
   "outputs": [
    {
     "name": "stdout",
     "output_type": "stream",
     "text": [
      "Hello world\n"
     ]
    }
   ],
   "source": [
    "print('Hello world')"
   ]
  },
  {
   "cell_type": "code",
   "execution_count": 4,
   "id": "a166ece8",
   "metadata": {},
   "outputs": [],
   "source": [
    "a=35.0"
   ]
  },
  {
   "cell_type": "code",
   "execution_count": 5,
   "id": "5eac4f81",
   "metadata": {},
   "outputs": [],
   "source": [
    "b=12.50"
   ]
  },
  {
   "cell_type": "code",
   "execution_count": 6,
   "id": "f52526f0",
   "metadata": {},
   "outputs": [],
   "source": [
    "c=a*b"
   ]
  },
  {
   "cell_type": "code",
   "execution_count": 7,
   "id": "1de02831",
   "metadata": {},
   "outputs": [
    {
     "name": "stdout",
     "output_type": "stream",
     "text": [
      "437.5\n"
     ]
    }
   ],
   "source": [
    "print(c)"
   ]
  },
  {
   "cell_type": "code",
   "execution_count": 8,
   "id": "f64cf46a",
   "metadata": {},
   "outputs": [],
   "source": [
    "hours=35.0"
   ]
  },
  {
   "cell_type": "code",
   "execution_count": 9,
   "id": "e718e462",
   "metadata": {},
   "outputs": [],
   "source": [
    "rate=12.5"
   ]
  },
  {
   "cell_type": "code",
   "execution_count": 10,
   "id": "229e95b5",
   "metadata": {},
   "outputs": [],
   "source": [
    "pay=hours*rate"
   ]
  },
  {
   "cell_type": "code",
   "execution_count": 11,
   "id": "77ae0e32",
   "metadata": {},
   "outputs": [
    {
     "name": "stdout",
     "output_type": "stream",
     "text": [
      "437.5\n"
     ]
    }
   ],
   "source": [
    "print(pay)"
   ]
  },
  {
   "cell_type": "code",
   "execution_count": 12,
   "id": "cc4d206a",
   "metadata": {},
   "outputs": [],
   "source": [
    "x=2"
   ]
  },
  {
   "cell_type": "code",
   "execution_count": 13,
   "id": "fa66b722",
   "metadata": {},
   "outputs": [],
   "source": [
    "x=x+2"
   ]
  },
  {
   "cell_type": "code",
   "execution_count": 14,
   "id": "c0a5ef04",
   "metadata": {},
   "outputs": [
    {
     "name": "stdout",
     "output_type": "stream",
     "text": [
      "4\n"
     ]
    }
   ],
   "source": [
    "print(x)"
   ]
  },
  {
   "cell_type": "code",
   "execution_count": 15,
   "id": "1f05414c",
   "metadata": {},
   "outputs": [],
   "source": [
    "x=0.6"
   ]
  },
  {
   "cell_type": "code",
   "execution_count": 16,
   "id": "7200a9c0",
   "metadata": {},
   "outputs": [],
   "source": [
    "x=3.9*x*(1-x)"
   ]
  },
  {
   "cell_type": "code",
   "execution_count": 17,
   "id": "608af78b",
   "metadata": {},
   "outputs": [
    {
     "name": "stdout",
     "output_type": "stream",
     "text": [
      "0.9359999999999999\n"
     ]
    }
   ],
   "source": [
    "print(x)"
   ]
  },
  {
   "cell_type": "code",
   "execution_count": 18,
   "id": "60415a1b",
   "metadata": {},
   "outputs": [],
   "source": [
    "xx=2"
   ]
  },
  {
   "cell_type": "code",
   "execution_count": 19,
   "id": "ddd99d60",
   "metadata": {},
   "outputs": [],
   "source": [
    "xx=xx+2"
   ]
  },
  {
   "cell_type": "code",
   "execution_count": 20,
   "id": "4ccf3d2f",
   "metadata": {},
   "outputs": [
    {
     "name": "stdout",
     "output_type": "stream",
     "text": [
      "4\n"
     ]
    }
   ],
   "source": [
    "print(xx)"
   ]
  },
  {
   "cell_type": "code",
   "execution_count": 21,
   "id": "84c94237",
   "metadata": {},
   "outputs": [],
   "source": [
    "yy=440*12"
   ]
  },
  {
   "cell_type": "code",
   "execution_count": 22,
   "id": "f845f86d",
   "metadata": {},
   "outputs": [
    {
     "name": "stdout",
     "output_type": "stream",
     "text": [
      "5280\n"
     ]
    }
   ],
   "source": [
    "print(yy)"
   ]
  },
  {
   "cell_type": "code",
   "execution_count": 24,
   "id": "c3a10a03",
   "metadata": {},
   "outputs": [],
   "source": [
    "zz=yy/1000"
   ]
  },
  {
   "cell_type": "code",
   "execution_count": 25,
   "id": "3d599fba",
   "metadata": {},
   "outputs": [
    {
     "name": "stdout",
     "output_type": "stream",
     "text": [
      "5.28\n"
     ]
    }
   ],
   "source": [
    "print(zz)"
   ]
  },
  {
   "cell_type": "code",
   "execution_count": 26,
   "id": "41b1c9ab",
   "metadata": {},
   "outputs": [],
   "source": [
    "jj=23"
   ]
  },
  {
   "cell_type": "code",
   "execution_count": 28,
   "id": "9ccf4d95",
   "metadata": {},
   "outputs": [],
   "source": [
    "kk=jj%5"
   ]
  },
  {
   "cell_type": "code",
   "execution_count": 29,
   "id": "47211b18",
   "metadata": {},
   "outputs": [
    {
     "name": "stdout",
     "output_type": "stream",
     "text": [
      "3\n"
     ]
    }
   ],
   "source": [
    "print(kk)"
   ]
  },
  {
   "cell_type": "code",
   "execution_count": 30,
   "id": "13fe2389",
   "metadata": {},
   "outputs": [
    {
     "name": "stdout",
     "output_type": "stream",
     "text": [
      "64\n"
     ]
    }
   ],
   "source": [
    "print(4**3)"
   ]
  },
  {
   "cell_type": "code",
   "execution_count": 31,
   "id": "df085aaf",
   "metadata": {},
   "outputs": [],
   "source": [
    "x=1+2*3-4/5**6"
   ]
  },
  {
   "cell_type": "code",
   "execution_count": 32,
   "id": "2a50d085",
   "metadata": {},
   "outputs": [
    {
     "name": "stdout",
     "output_type": "stream",
     "text": [
      "6.999744\n"
     ]
    }
   ],
   "source": [
    "print(x)"
   ]
  },
  {
   "cell_type": "code",
   "execution_count": 33,
   "id": "1ae82ae3",
   "metadata": {},
   "outputs": [],
   "source": [
    "x=1+2**3/4*5"
   ]
  },
  {
   "cell_type": "code",
   "execution_count": 34,
   "id": "5794c986",
   "metadata": {},
   "outputs": [
    {
     "name": "stdout",
     "output_type": "stream",
     "text": [
      "11.0\n"
     ]
    }
   ],
   "source": [
    "print(x)"
   ]
  },
  {
   "cell_type": "code",
   "execution_count": 35,
   "id": "9cebbd46",
   "metadata": {},
   "outputs": [],
   "source": [
    "ddd=1+4"
   ]
  },
  {
   "cell_type": "code",
   "execution_count": 36,
   "id": "3e102ae0",
   "metadata": {},
   "outputs": [
    {
     "name": "stdout",
     "output_type": "stream",
     "text": [
      "5\n"
     ]
    }
   ],
   "source": [
    "print(ddd)"
   ]
  },
  {
   "cell_type": "code",
   "execution_count": 48,
   "id": "b356ec15",
   "metadata": {},
   "outputs": [],
   "source": [
    "eee=  'hello ' +   ' there'"
   ]
  },
  {
   "cell_type": "code",
   "execution_count": 49,
   "id": "f36aa988",
   "metadata": {},
   "outputs": [
    {
     "name": "stdout",
     "output_type": "stream",
     "text": [
      "hello  there\n"
     ]
    }
   ],
   "source": [
    "print(eee)"
   ]
  },
  {
   "cell_type": "code",
   "execution_count": 50,
   "id": "27e701c4",
   "metadata": {},
   "outputs": [
    {
     "data": {
      "text/plain": [
       "str"
      ]
     },
     "execution_count": 50,
     "metadata": {},
     "output_type": "execute_result"
    }
   ],
   "source": [
    "type(eee)"
   ]
  },
  {
   "cell_type": "code",
   "execution_count": 51,
   "id": "ca36afa5",
   "metadata": {},
   "outputs": [
    {
     "data": {
      "text/plain": [
       "str"
      ]
     },
     "execution_count": 51,
     "metadata": {},
     "output_type": "execute_result"
    }
   ],
   "source": [
    "type('Hello')"
   ]
  },
  {
   "cell_type": "code",
   "execution_count": 52,
   "id": "baf09267",
   "metadata": {},
   "outputs": [
    {
     "data": {
      "text/plain": [
       "int"
      ]
     },
     "execution_count": 52,
     "metadata": {},
     "output_type": "execute_result"
    }
   ],
   "source": [
    "type(1)"
   ]
  },
  {
   "cell_type": "code",
   "execution_count": 53,
   "id": "63bfdee1",
   "metadata": {},
   "outputs": [],
   "source": [
    "xx=1"
   ]
  },
  {
   "cell_type": "code",
   "execution_count": 54,
   "id": "1174b52c",
   "metadata": {},
   "outputs": [
    {
     "data": {
      "text/plain": [
       "int"
      ]
     },
     "execution_count": 54,
     "metadata": {},
     "output_type": "execute_result"
    }
   ],
   "source": [
    "type(xx)"
   ]
  },
  {
   "cell_type": "code",
   "execution_count": 55,
   "id": "d5c73f70",
   "metadata": {},
   "outputs": [],
   "source": [
    "temp=98.6"
   ]
  },
  {
   "cell_type": "code",
   "execution_count": 56,
   "id": "42f3ee13",
   "metadata": {},
   "outputs": [
    {
     "data": {
      "text/plain": [
       "float"
      ]
     },
     "execution_count": 56,
     "metadata": {},
     "output_type": "execute_result"
    }
   ],
   "source": [
    "type(temp)"
   ]
  },
  {
   "cell_type": "code",
   "execution_count": 57,
   "id": "3d5704d4",
   "metadata": {},
   "outputs": [
    {
     "data": {
      "text/plain": [
       "int"
      ]
     },
     "execution_count": 57,
     "metadata": {},
     "output_type": "execute_result"
    }
   ],
   "source": [
    "type(1)"
   ]
  },
  {
   "cell_type": "code",
   "execution_count": 58,
   "id": "f2f246b8",
   "metadata": {},
   "outputs": [
    {
     "data": {
      "text/plain": [
       "float"
      ]
     },
     "execution_count": 58,
     "metadata": {},
     "output_type": "execute_result"
    }
   ],
   "source": [
    "type(1.0)"
   ]
  },
  {
   "cell_type": "code",
   "execution_count": 59,
   "id": "20b8fdb0",
   "metadata": {},
   "outputs": [
    {
     "name": "stdout",
     "output_type": "stream",
     "text": [
      "199.0\n"
     ]
    }
   ],
   "source": [
    "print(float (99)+100)"
   ]
  },
  {
   "cell_type": "code",
   "execution_count": 60,
   "id": "8bd7d346",
   "metadata": {},
   "outputs": [],
   "source": [
    "i=42"
   ]
  },
  {
   "cell_type": "code",
   "execution_count": 61,
   "id": "2ead5ae3",
   "metadata": {},
   "outputs": [
    {
     "data": {
      "text/plain": [
       "int"
      ]
     },
     "execution_count": 61,
     "metadata": {},
     "output_type": "execute_result"
    }
   ],
   "source": [
    "type(i)"
   ]
  },
  {
   "cell_type": "code",
   "execution_count": 62,
   "id": "9ab79bfb",
   "metadata": {},
   "outputs": [],
   "source": [
    "f=float(i)"
   ]
  },
  {
   "cell_type": "code",
   "execution_count": 63,
   "id": "cf8f576d",
   "metadata": {},
   "outputs": [
    {
     "name": "stdout",
     "output_type": "stream",
     "text": [
      "42.0\n"
     ]
    }
   ],
   "source": [
    "print(f)"
   ]
  },
  {
   "cell_type": "code",
   "execution_count": 64,
   "id": "6333a179",
   "metadata": {},
   "outputs": [
    {
     "data": {
      "text/plain": [
       "float"
      ]
     },
     "execution_count": 64,
     "metadata": {},
     "output_type": "execute_result"
    }
   ],
   "source": [
    "type(f)"
   ]
  },
  {
   "cell_type": "code",
   "execution_count": 65,
   "id": "478f0b4d",
   "metadata": {},
   "outputs": [
    {
     "name": "stdout",
     "output_type": "stream",
     "text": [
      "5.0\n"
     ]
    }
   ],
   "source": [
    "print(10/2)"
   ]
  },
  {
   "cell_type": "code",
   "execution_count": 66,
   "id": "bb2d65e9",
   "metadata": {},
   "outputs": [
    {
     "name": "stdout",
     "output_type": "stream",
     "text": [
      "4.5\n"
     ]
    }
   ],
   "source": [
    "print(9/2)"
   ]
  },
  {
   "cell_type": "code",
   "execution_count": 67,
   "id": "7731c7d0",
   "metadata": {},
   "outputs": [
    {
     "name": "stdout",
     "output_type": "stream",
     "text": [
      "0.99\n"
     ]
    }
   ],
   "source": [
    "print(99/100)"
   ]
  },
  {
   "cell_type": "code",
   "execution_count": 68,
   "id": "6db1eece",
   "metadata": {},
   "outputs": [
    {
     "name": "stdout",
     "output_type": "stream",
     "text": [
      "5.0\n"
     ]
    }
   ],
   "source": [
    "print(10.0/2.0)"
   ]
  },
  {
   "cell_type": "code",
   "execution_count": 69,
   "id": "8c3271de",
   "metadata": {},
   "outputs": [
    {
     "name": "stdout",
     "output_type": "stream",
     "text": [
      "0.99\n"
     ]
    }
   ],
   "source": [
    "print(99.0/100.0)"
   ]
  },
  {
   "cell_type": "code",
   "execution_count": 70,
   "id": "67229b21",
   "metadata": {},
   "outputs": [],
   "source": [
    "sval='123'"
   ]
  },
  {
   "cell_type": "code",
   "execution_count": 71,
   "id": "5c4dfcf0",
   "metadata": {},
   "outputs": [
    {
     "data": {
      "text/plain": [
       "str"
      ]
     },
     "execution_count": 71,
     "metadata": {},
     "output_type": "execute_result"
    }
   ],
   "source": [
    "type(sval)"
   ]
  },
  {
   "cell_type": "code",
   "execution_count": 72,
   "id": "76310fc2",
   "metadata": {},
   "outputs": [
    {
     "ename": "TypeError",
     "evalue": "can only concatenate str (not \"int\") to str",
     "output_type": "error",
     "traceback": [
      "\u001b[1;31m---------------------------------------------------------------------------\u001b[0m",
      "\u001b[1;31mTypeError\u001b[0m                                 Traceback (most recent call last)",
      "Cell \u001b[1;32mIn[72], line 1\u001b[0m\n\u001b[1;32m----> 1\u001b[0m \u001b[38;5;28mprint\u001b[39m(sval\u001b[38;5;241m+\u001b[39m\u001b[38;5;241m1\u001b[39m)\n",
      "\u001b[1;31mTypeError\u001b[0m: can only concatenate str (not \"int\") to str"
     ]
    }
   ],
   "source": [
    "print(sval+1)"
   ]
  },
  {
   "cell_type": "code",
   "execution_count": 73,
   "id": "060ab4b8",
   "metadata": {},
   "outputs": [],
   "source": [
    "ival=int(sval)"
   ]
  },
  {
   "cell_type": "code",
   "execution_count": 74,
   "id": "4bbc0a98",
   "metadata": {},
   "outputs": [
    {
     "data": {
      "text/plain": [
       "int"
      ]
     },
     "execution_count": 74,
     "metadata": {},
     "output_type": "execute_result"
    }
   ],
   "source": [
    "type(ival)"
   ]
  },
  {
   "cell_type": "code",
   "execution_count": 75,
   "id": "e7ac2a8a",
   "metadata": {},
   "outputs": [
    {
     "name": "stdout",
     "output_type": "stream",
     "text": [
      "124\n"
     ]
    }
   ],
   "source": [
    "print(ival+1)"
   ]
  },
  {
   "cell_type": "code",
   "execution_count": 76,
   "id": "12e04934",
   "metadata": {},
   "outputs": [],
   "source": [
    "nsv='hello bob'"
   ]
  },
  {
   "cell_type": "code",
   "execution_count": 77,
   "id": "18c5eb82",
   "metadata": {},
   "outputs": [
    {
     "ename": "ValueError",
     "evalue": "invalid literal for int() with base 10: 'hello bob'",
     "output_type": "error",
     "traceback": [
      "\u001b[1;31m---------------------------------------------------------------------------\u001b[0m",
      "\u001b[1;31mValueError\u001b[0m                                Traceback (most recent call last)",
      "Cell \u001b[1;32mIn[77], line 1\u001b[0m\n\u001b[1;32m----> 1\u001b[0m niv\u001b[38;5;241m=\u001b[39m\u001b[38;5;28mint\u001b[39m(nsv)\n",
      "\u001b[1;31mValueError\u001b[0m: invalid literal for int() with base 10: 'hello bob'"
     ]
    }
   ],
   "source": [
    "niv=int(nsv)"
   ]
  },
  {
   "cell_type": "code",
   "execution_count": 78,
   "id": "fbe9bad3",
   "metadata": {},
   "outputs": [
    {
     "name": "stdout",
     "output_type": "stream",
     "text": [
      "who are you?jorden\n"
     ]
    }
   ],
   "source": [
    "nam=input('who are you?')"
   ]
  },
  {
   "cell_type": "code",
   "execution_count": 79,
   "id": "923677bd",
   "metadata": {},
   "outputs": [
    {
     "name": "stdout",
     "output_type": "stream",
     "text": [
      "welcome jorden\n"
     ]
    }
   ],
   "source": [
    "print('welcome', nam)"
   ]
  },
  {
   "cell_type": "code",
   "execution_count": 80,
   "id": "8b33a46e",
   "metadata": {},
   "outputs": [
    {
     "name": "stdout",
     "output_type": "stream",
     "text": [
      "Europe floor?0\n"
     ]
    }
   ],
   "source": [
    "inp=input('Europe floor?')"
   ]
  },
  {
   "cell_type": "code",
   "execution_count": 81,
   "id": "0cea4ce2",
   "metadata": {},
   "outputs": [],
   "source": [
    "USF=int(inp)+1"
   ]
  },
  {
   "cell_type": "code",
   "execution_count": 82,
   "id": "d4aba45c",
   "metadata": {},
   "outputs": [
    {
     "name": "stdout",
     "output_type": "stream",
     "text": [
      "Us floor 1\n"
     ]
    }
   ],
   "source": [
    "print('Us floor', USF)"
   ]
  },
  {
   "cell_type": "code",
   "execution_count": 96,
   "id": "03a8e40c",
   "metadata": {},
   "outputs": [
    {
     "name": "stdout",
     "output_type": "stream",
     "text": [
      "Enter hours\n",
      "35\n",
      "Enter rate\n",
      "2.75\n",
      "96.25\n"
     ]
    }
   ],
   "source": [
    "#compute gross pay\n",
    "prompt = 'Enter hours\\n'\n",
    "hours = input(prompt)\n",
    "hours = int(hours)\n",
    "prompt = 'Enter rate\\n'\n",
    "rate = input(prompt)\n",
    "rate = float(rate)\n",
    "pay = hours * rate\n",
    "print(pay)"
   ]
  },
  {
   "cell_type": "code",
   "execution_count": null,
   "id": "cb924840",
   "metadata": {},
   "outputs": [],
   "source": []
  }
 ],
 "metadata": {
  "kernelspec": {
   "display_name": "Python 3 (ipykernel)",
   "language": "python",
   "name": "python3"
  },
  "language_info": {
   "codemirror_mode": {
    "name": "ipython",
    "version": 3
   },
   "file_extension": ".py",
   "mimetype": "text/x-python",
   "name": "python",
   "nbconvert_exporter": "python",
   "pygments_lexer": "ipython3",
   "version": "3.11.4"
  }
 },
 "nbformat": 4,
 "nbformat_minor": 5
}
